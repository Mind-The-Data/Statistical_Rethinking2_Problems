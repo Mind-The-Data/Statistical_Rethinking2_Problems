{
 "cells": [
  {
   "cell_type": "markdown",
   "metadata": {},
   "source": [
    "## Chapter 6 \n",
    "## Information Entropy \n",
    "Problems\n",
    "\n",
    "ch. 7 in second ed\n",
    "\n",
    "Brian Stampe\n"
   ]
  },
  {
   "cell_type": "code",
   "execution_count": 16,
   "metadata": {},
   "outputs": [],
   "source": [
    "import numpy as np\n",
    "import matplotlib.pyplot as plt"
   ]
  },
  {
   "cell_type": "markdown",
   "metadata": {},
   "source": [
    "E1. \n",
    "The measure should be continuous without huge jumps in uncertainty from small gains in learning. \n",
    "\n",
    "The measure should be additive, such that when you learn additional things you can additively reduce your uncertainty\n",
    "\n",
    "The measure should generally increase as more events are possible. "
   ]
  },
  {
   "cell_type": "code",
   "execution_count": 4,
   "metadata": {},
   "outputs": [
    {
     "data": {
      "text/plain": [
       "0.6730116670092565"
      ]
     },
     "execution_count": 4,
     "metadata": {},
     "output_type": "execute_result"
    }
   ],
   "source": [
    "#E2.\n",
    "#What is entropy of coin comes up heads 60% of time?\n",
    "p = [.4,.6]\n",
    "\n",
    "def entropy(p):\n",
    "    e = 0\n",
    "    for i in p:\n",
    "        e -= i * np.log(i)\n",
    "    return e\n",
    "\n",
    "\n",
    "entropy(p)"
   ]
  },
  {
   "cell_type": "code",
   "execution_count": 6,
   "metadata": {},
   "outputs": [
    {
     "data": {
      "text/plain": [
       "1.3762266043445461"
      ]
     },
     "execution_count": 6,
     "metadata": {},
     "output_type": "execute_result"
    }
   ],
   "source": [
    "#6E3. Suppose a four-sided die is loaded such that, when tossed onto a table, it shows “1” 20%, “2”\n",
    "#25%, ”3” 25%, and ”4” 30% of the time. What is the entropy of this die?\n",
    "\n",
    "p = [.2,.25,.25,.3]\n",
    "entropy(p)"
   ]
  },
  {
   "cell_type": "code",
   "execution_count": 8,
   "metadata": {},
   "outputs": [
    {
     "data": {
      "text/plain": [
       "1.098611302495223"
      ]
     },
     "execution_count": 8,
     "metadata": {},
     "output_type": "execute_result"
    }
   ],
   "source": [
    "#6E4. Suppose another four-sided die is loaded such that it never shows “4”. The other three sides\n",
    "#show equally often. What is the entropy of this die?\n",
    "\n",
    "# leave out if zero probability, L'Hopitals lim. Otherwise, 0*infinity error\n",
    "p = [.33333 ,.33333 ,.33333]\n",
    "entropy(p)"
   ]
  },
  {
   "cell_type": "markdown",
   "metadata": {},
   "source": [
    "6M1. Write down and compare the definitions of AIC, DIC, and WAIC. Which of these criteria\n",
    "is most general? Which assumptions are required to transform a more general criterion into a less\n",
    "general one?\n",
    "\n",
    "AIC = Dtrain + 2p = −2lppd + 2p\n",
    "\n",
    "\n",
    "WAIC(y, Θ) = −2 lppd − var Θ log p(y i |Θ)\n",
    "\n",
    "\n"
   ]
  },
  {
   "cell_type": "markdown",
   "metadata": {},
   "source": [
    "6M2. Explain the difference between model selection and model averaging. What information is lost\n",
    "under model selection? What information is lost under model averaging?\n",
    "\n",
    "Under model selection all the information from the other models is ostensibly lost in the current model, although you claim it is the best relative model. \n",
    "\n",
    "Under model averaging you keep the remaining information in proportion to the weight of the model, or basically how well it is presumed to predict out of sample. \n"
   ]
  },
  {
   "cell_type": "markdown",
   "metadata": {},
   "source": [
    "6M3. When comparing models with an information criterion, why must all models be fit to exactly\n",
    "the same observations? What would happen to the information criterion values, if the models were\n",
    "fit to different numbers of observations? Perform some experiments, if you are not sure.\n",
    "\n",
    "The deviance will continue to increase as the number of observations go up. However, the penalty term won't go up if you don't increase the number of parameters, it will likely go down as you get a more confident posterior.\n"
   ]
  },
  {
   "cell_type": "code",
   "execution_count": 18,
   "metadata": {},
   "outputs": [
    {
     "name": "stdout",
     "output_type": "stream",
     "text": [
      "-3.3259878735648334\n",
      "-5.545177444479562\n"
     ]
    },
    {
     "data": {
      "image/png": "[encoded data removed]",
      "text/plain": [
       "<Figure size 432x288 with 1 Axes>"
      ]
     },
     "metadata": {},
     "output_type": "display_data"
    }
   ],
   "source": [
    "def deviance(p):\n",
    "    d = 0\n",
    "    for i in p:\n",
    "        d += np.log(i)\n",
    "    return d\n",
    "\n",
    "p = [.33,.33,.33]\n",
    "print(deviance(p))\n",
    "p=[.25,.25,.25,.25]\n",
    "print(deviance(p))\n",
    "p = np.linspace(1,10,10)\n",
    "p /= p.sum()\n",
    "deviance(p)\n",
    "\n",
    "for i in range(100):\n",
    "    p = np.linspace(1,10,i)\n",
    "    plt.scatter(i,deviance(p))\n",
    "    plt.ylabel('deviance')\n",
    "    plt.xlabel('number of data points used')"
   ]
  },
  {
   "cell_type": "code",
   "execution_count": 13,
   "metadata": {},
   "outputs": [
    {
     "data": {
      "text/plain": [
       "array([1.])"
      ]
     },
     "execution_count": 13,
     "metadata": {},
     "output_type": "execute_result"
    }
   ],
   "source": []
  },
  {
   "cell_type": "code",
   "execution_count": null,
   "metadata": {},
   "outputs": [],
   "source": []
  }
 ],
 "metadata": {
  "kernelspec": {
   "display_name": "Python 3",
   "language": "python",
   "name": "python3"
  },
  "language_info": {
   "codemirror_mode": {
    "name": "ipython",
    "version": 3
   },
   "file_extension": ".py",
   "mimetype": "text/x-python",
   "name": "python",
   "nbconvert_exporter": "python",
   "pygments_lexer": "ipython3",
   "version": "3.6.8"
  }
 },
 "nbformat": 4,
 "nbformat_minor": 2
}
